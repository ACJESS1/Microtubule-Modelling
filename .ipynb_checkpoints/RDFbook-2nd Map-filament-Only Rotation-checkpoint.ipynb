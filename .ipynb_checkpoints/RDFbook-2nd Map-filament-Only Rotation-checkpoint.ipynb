{
 "cells": [
  {
   "cell_type": "code",
   "execution_count": 1,
   "id": "1ab12e2f",
   "metadata": {},
   "outputs": [],
   "source": [
    "import matplotlib.pyplot as plt\n",
    "import itertools\n",
    "import hoomd\n",
    "import math\n",
    "\n",
    "import xarray as xr\n",
    "import numpy\n",
    "import gsd.hoomd\n",
    "import sphere_fres as sf\n",
    "import model_tools as mt\n"
   ]
  },
  {
   "cell_type": "code",
   "execution_count": 2,
   "id": "2ab9356d",
   "metadata": {},
   "outputs": [],
   "source": [
    "N_particles =75\n",
    "space = 9\n",
    "L = N_particles*space\n",
    "position=[]\n",
    "for i in range(N_particles):\n",
    "   position.append([0,space*i-L/2,0])\n",
    "\n",
    "\n",
    "orientation = [(1, 0, 0, 0)] * N_particles\n",
    "\n",
    "\n",
    "\n",
    "# gsd snapshot\n",
    "snapshot = gsd.hoomd.Frame()\n",
    "snapshot.particles.N = N_particles\n",
    "snapshot.particles.position = position\n",
    "snapshot.particles.orientation = orientation\n",
    "snapshot.particles.typeid = [0] * N_particles\n",
    "snapshot.particles.types = ['A']\n",
    "snapshot.configuration.box = [L, L, L, 0, 0, 0]\n",
    "with gsd.hoomd.open(name='linear.gsd', mode='w') as f:\n",
    "    f.append(snapshot)\n"
   ]
  },
  {
   "cell_type": "code",
   "execution_count": 3,
   "id": "674a8979",
   "metadata": {},
   "outputs": [],
   "source": [
    "# build simulation\n",
    "cpu = hoomd.device.CPU()\n",
    "sim = hoomd.Simulation(device=cpu, seed=0)\n",
    "sim.create_state_from_gsd(filename='linear.gsd')\n",
    "\n",
    "#simulation parameters\n",
    "initial_kT = 0.05"
   ]
  },
  {
   "cell_type": "code",
   "execution_count": 4,
   "id": "5492046d",
   "metadata": {},
   "outputs": [],
   "source": [
    "sx,sz,sy,sa,sb,sc,data_map = mt.get_data(\"mt_full_new.nc\")\n",
    "\n",
    "patch_param_array = numpy.append(data_map,initial_kT)"
   ]
  },
  {
   "cell_type": "code",
   "execution_count": 5,
   "id": "2f70b58d",
   "metadata": {},
   "outputs": [],
   "source": [
    "mc = hoomd.hpmc.integrate.Sphere(default_d=2, default_a=0.8,translation_move_probability = 0.0)\n",
    "mc.shape['A'] = dict(diameter=2, orientable=True)\n",
    "sim.operations.integrator = mc\n"
   ]
  },
  {
   "cell_type": "code",
   "execution_count": 6,
   "id": "393e3dfa",
   "metadata": {},
   "outputs": [],
   "source": [
    "patch_code = mt.patch_code(sx,sz,sy,sa,sb,sc)\n"
   ]
  },
  {
   "cell_type": "code",
   "execution_count": 7,
   "id": "1f583b06",
   "metadata": {},
   "outputs": [
    {
     "name": "stdout",
     "output_type": "stream",
     "text": [
      "-47490112.0\n"
     ]
    }
   ],
   "source": [
    "patch_potential = hoomd.hpmc.pair.user.CPPPotential(r_cut=10,\n",
    "                                                    code=patch_code,\n",
    "                                                    param_array=patch_param_array)\n",
    "\n",
    "mc.pair_potential = patch_potential\n",
    "sim.run(0000)\n",
    "print(patch_potential.energy)"
   ]
  },
  {
   "cell_type": "code",
   "execution_count": 8,
   "id": "ec8e623a",
   "metadata": {},
   "outputs": [],
   "source": [
    "logger = hoomd.logging.Logger()\n",
    "logger.add(patch_potential, quantities=[\n",
    "    'energy',\n",
    "])\n",
    "logger[('kT',)] = (lambda: patch_potential.param_array[sx*sz*sy*sa*sb*sc], 'scalar')\n",
    "gsd_writer = hoomd.write.GSD(filename='log.gsd',\n",
    "                             trigger=hoomd.trigger.Periodic(50),\n",
    "                             mode='wb',\n",
    "                             filter=hoomd.filter.Null(),\n",
    "                             logger=logger)\n",
    "sim.operations.writers.append(gsd_writer)\n"
   ]
  },
  {
   "cell_type": "code",
   "execution_count": 9,
   "id": "b1fdd8fc",
   "metadata": {},
   "outputs": [],
   "source": [
    "sim.run(20000)"
   ]
  },
  {
   "cell_type": "code",
   "execution_count": 10,
   "id": "1f98f176",
   "metadata": {},
   "outputs": [],
   "source": [
    "gsd_writer.flush()\n"
   ]
  },
  {
   "cell_type": "code",
   "execution_count": 14,
   "id": "bc6912bf",
   "metadata": {},
   "outputs": [
    {
     "data": {
      "image/png": "[encoded data removed]",
      "text/plain": [
       "<IPython.core.display.Image object>"
      ]
     },
     "execution_count": 14,
     "metadata": {},
     "output_type": "execute_result"
    }
   ],
   "source": [
    "sf.render(sim.state.get_snapshot(),L*0.8)"
   ]
  },
  {
   "cell_type": "code",
   "execution_count": null,
   "id": "d3c78c58",
   "metadata": {},
   "outputs": [],
   "source": [
    "mt.graphs(sim)"
   ]
  }
 ],
 "metadata": {
  "kernelspec": {
   "display_name": "hoomd-kernel",
   "language": "python",
   "name": "hoomd-kernel"
  },
  "language_info": {
   "codemirror_mode": {
    "name": "ipython",
    "version": 3
   },
   "file_extension": ".py",
   "mimetype": "text/x-python",
   "name": "python",
   "nbconvert_exporter": "python",
   "pygments_lexer": "ipython3",
   "version": "3.11.4"
  }
 },
 "nbformat": 4,
 "nbformat_minor": 5
}
