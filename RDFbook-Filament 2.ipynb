{
 "cells": [
  {
   "cell_type": "code",
   "execution_count": 1,
   "id": "3bbac586",
   "metadata": {},
   "outputs": [],
   "source": [
    "import matplotlib.pyplot as plt\n",
    "import itertools\n",
    "import hoomd\n",
    "import math\n",
    "\n",
    "import xarray as xr\n",
    "import numpy\n",
    "import gsd.hoomd\n",
    "import sphere_fres as sf\n"
   ]
  },
  {
   "cell_type": "code",
   "execution_count": 2,
   "id": "d77ba706",
   "metadata": {},
   "outputs": [],
   "source": [
    "N_particles =25\n",
    "space = 12\n",
    "L = N_particles*space\n",
    "position=[]\n",
    "for i in range(N_particles):\n",
    "   position.append([0,space*i-L/2,0])\n",
    "\n",
    "\n",
    "orientation = [(1, 0, 0, 0)] * N_particles\n",
    "\n",
    "\n",
    "\n",
    "# gsd snapshot\n",
    "snapshot = gsd.hoomd.Frame()\n",
    "snapshot.particles.N = N_particles\n",
    "snapshot.particles.position = position\n",
    "snapshot.particles.orientation = orientation\n",
    "snapshot.particles.typeid = [0] * N_particles\n",
    "snapshot.particles.types = ['A']\n",
    "snapshot.configuration.box = [L, L, L, 0, 0, 0]\n",
    "with gsd.hoomd.open(name='linear.gsd', mode='w') as f:\n",
    "    f.append(snapshot)\n"
   ]
  },
  {
   "cell_type": "code",
   "execution_count": 3,
   "id": "d4ed4529",
   "metadata": {},
   "outputs": [],
   "source": [
    "# build simulation\n",
    "cpu = hoomd.device.CPU()\n",
    "sim = hoomd.Simulation(device=cpu, seed=0)\n",
    "sim.create_state_from_gsd(filename='linear.gsd')\n",
    "\n",
    "#simulation parameters\n",
    "initial_kT = 0.0001"
   ]
  },
  {
   "cell_type": "code",
   "execution_count": 4,
   "id": "7e041f72",
   "metadata": {},
   "outputs": [],
   "source": [
    "#The terrible things done to the data set\n",
    "\n",
    "ds_disk = xr.open_dataset(\"mt_full.nc\")\n",
    "temp1 = ds_disk.to_array()\n",
    "tarr = temp1.data\n",
    "tarr = numpy.squeeze(tarr)\n",
    "tarrt = numpy.reshape(tarr,(11*11*11*2*2*2))\n",
    "patch_param_array = numpy.append(tarrt,initial_kT)"
   ]
  },
  {
   "cell_type": "code",
   "execution_count": 5,
   "id": "88e8ab87",
   "metadata": {},
   "outputs": [],
   "source": [
    "mc = hoomd.hpmc.integrate.Sphere(default_d=2, default_a=0.8)\n",
    "mc.shape['A'] = dict(diameter=2, orientable=True)\n",
    "sim.operations.integrator = mc\n"
   ]
  },
  {
   "cell_type": "code",
   "execution_count": 6,
   "id": "10a6fb1b",
   "metadata": {},
   "outputs": [],
   "source": [
    "patch_code = f\"\"\"\n",
    "\n",
    "quat<float> q_rel = q_j*conj(q_i);\n",
    "vec3<float> angles(0,0,0);\n",
    "\n",
    "// roll (x-axis rotation)\n",
    "    double sinr_cosp = 2 * (q_rel.s * q_rel.v.x + q_rel.v.y * q_rel.v.z);\n",
    "    double cosr_cosp = 1 - 2 * (q_rel.v.x * q_rel.v.x + q_rel.v.y * q_rel.v.y);\n",
    "    angles.x = std::atan2(sinr_cosp, cosr_cosp);\n",
    "\n",
    "    // pitch (y-axis rotation)\n",
    "    double sinp = std::sqrt(1 + 2 * (q_rel.s * q_rel.v.y - q_rel.v.x * q_rel.v.z));\n",
    "    double cosp = std::sqrt(1 - 2 * (q_rel.s * q_rel.v.y - q_rel.v.x * q_rel.v.z));\n",
    "    angles.y = 2 * std::atan2(sinp, cosp) - M_PI / 2;\n",
    "\n",
    "    // yaw (z-axis rotation)\n",
    "    double siny_cosp = 2 * (q_rel.s * q_rel.v.z + q_rel.v.x * q_rel.v.y);\n",
    "    double cosy_cosp = 1 - 2 * (q_rel.v.y * q_rel.v.y + q_rel.v.z * q_rel.v.z);\n",
    "    angles.z = std::atan2(siny_cosp, cosy_cosp);\n",
    "\n",
    "const int sx=11,sy=11,sz=11,sa=2,sb=2,sc=2;\n",
    "\n",
    "int x = round(r_ij.x/2+5);\n",
    "int y = round(r_ij.y/2+5);\n",
    "int z = round(r_ij.z/2+5);\n",
    "\n",
    "//int a=0,b=0,c=0;\n",
    "\n",
    "int a=round((-abs(angles.x)/M_PI)+1);\n",
    "int b=round((-(2*abs(angles.y))/M_PI)+1) ;\n",
    "int c=round((-abs(angles.z)/M_PI)+1);\n",
    "\n",
    "const float kT = param_array[sx*sy*sz*sa*sb*sc];\n",
    "\n",
    "return param_array[x*sy*sz*sa*sb*sc+y*sz*sa*sb*sc+z*sa*sb*sc+a*sb*sc+b*sc+c]/kT;\n",
    "\n",
    "\"\"\"\n"
   ]
  },
  {
   "cell_type": "code",
   "execution_count": null,
   "id": "e515ba02",
   "metadata": {},
   "outputs": [],
   "source": [
    "patch_potential = hoomd.hpmc.pair.user.CPPPotential(r_cut=10,\n",
    "                                                    code=patch_code,\n",
    "                                                    param_array=patch_param_array)\n",
    "\n",
    "mc.pair_potential = patch_potential\n",
    "sim.run(0000)\n",
    "print(patch_potential.energy)"
   ]
  },
  {
   "cell_type": "code",
   "execution_count": null,
   "id": "badef542",
   "metadata": {},
   "outputs": [],
   "source": [
    "logger = hoomd.logging.Logger()\n",
    "logger.add(patch_potential, quantities=[\n",
    "    'energy',\n",
    "])\n",
    "logger[('kT',)] = (lambda: patch_potential.param_array[10648], 'scalar')\n",
    "gsd_writer = hoomd.write.GSD(filename='log.gsd',\n",
    "                             trigger=hoomd.trigger.Periodic(50),\n",
    "                             mode='wb',\n",
    "                             filter=hoomd.filter.Null(),\n",
    "                             logger=logger)\n",
    "sim.operations.writers.append(gsd_writer)\n"
   ]
  },
  {
   "cell_type": "code",
   "execution_count": null,
   "id": "16ae564e",
   "metadata": {},
   "outputs": [],
   "source": [
    "sim.run(10000)\n"
   ]
  },
  {
   "cell_type": "code",
   "execution_count": null,
   "id": "a2a4bf8e",
   "metadata": {},
   "outputs": [],
   "source": [
    "gsd_writer.flush()\n",
    "\n",
    "data = gsd.hoomd.read_log('log.gsd')\n",
    "step = data['configuration/step']\n",
    "\n",
    "beta_potential_energy = data['log/hpmc/pair/user/CPPPotential/energy']\n",
    "kT = data['log/kT']\n",
    "potential_energy = beta_potential_energy * kT\n"
   ]
  },
  {
   "cell_type": "code",
   "execution_count": null,
   "id": "bee290b2",
   "metadata": {},
   "outputs": [],
   "source": [
    "plt.figure(1)\n",
    "#plt.plot(step[potential_energy<0],potential_energy[potential_energy<0])\n",
    "plt.plot(step,potential_energy)"
   ]
  },
  {
   "cell_type": "code",
   "execution_count": null,
   "id": "6dd97c2e",
   "metadata": {},
   "outputs": [],
   "source": [
    "with sim.state.cpu_local_snapshot as sn:\n",
    "    #print(sn.particles.position)\n",
    "    N_particles = max(sn.particles.tag)\n",
    "    distlog = numpy.array([])\n",
    "    for i in range(N_particles):\n",
    "        for j in range(i+1,N_particles):\n",
    "            displacement = sn.particles.position[i,:]- sn.particles.position[j,:]\n",
    "            distlog = numpy.append(distlog,math.sqrt(numpy.dot(displacement, displacement)))\n",
    "    dist =sn.particles.position[0,:]- sn.particles.position[1,:]\n",
    "    #print(math.sqrt(numpy.dot(dist, dist)))"
   ]
  },
  {
   "cell_type": "code",
   "execution_count": null,
   "id": "249b37e2",
   "metadata": {},
   "outputs": [],
   "source": [
    "plt.figure(2)\n",
    "plt.hist(distlog,bins=int(numpy.max(distlog)))\n",
    "plt.xlabel('Distance / 10^(-10)m')\n"
   ]
  },
  {
   "cell_type": "code",
   "execution_count": null,
   "id": "5ef6a39e",
   "metadata": {},
   "outputs": [],
   "source": [
    "sf.render(sim.state.get_snapshot(),L*1)"
   ]
  },
  {
   "cell_type": "code",
   "execution_count": null,
   "id": "182c7dca",
   "metadata": {},
   "outputs": [],
   "source": [
    "potential_energy\n"
   ]
  }
 ],
 "metadata": {
  "kernelspec": {
   "display_name": "hoomd-kernel",
   "language": "python",
   "name": "hoomd-kernel"
  },
  "language_info": {
   "codemirror_mode": {
    "name": "ipython",
    "version": 3
   },
   "file_extension": ".py",
   "mimetype": "text/x-python",
   "name": "python",
   "nbconvert_exporter": "python",
   "pygments_lexer": "ipython3",
   "version": "3.11.4"
  }
 },
 "nbformat": 4,
 "nbformat_minor": 5
}
